{
  "nbformat": 4,
  "nbformat_minor": 0,
  "metadata": {
    "colab": {
      "provenance": [],
      "authorship_tag": "ABX9TyOpqpUc4TG9HVB3xL4aM7xb",
      "include_colab_link": true
    },
    "kernelspec": {
      "name": "python3",
      "display_name": "Python 3"
    },
    "language_info": {
      "name": "python"
    }
  },
  "cells": [
    {
      "cell_type": "markdown",
      "metadata": {
        "id": "view-in-github",
        "colab_type": "text"
      },
      "source": [
        "<a href=\"https://colab.research.google.com/github/Deepsphere-AI/DSAI_WorkShop/blob/main/APR_2023_SCHOOLS/Regression/simple_linear_regression_Problem_2.ipynb\" target=\"_parent\"><img src=\"https://colab.research.google.com/assets/colab-badge.svg\" alt=\"Open In Colab\"/></a>"
      ]
    },
    {
      "cell_type": "markdown",
      "source": [
        "#Problem Statement:"
      ],
      "metadata": {
        "id": "wiIkXGHXPzss"
      }
    },
    {
      "cell_type": "markdown",
      "source": [
        "#### A real estate agency wants to predict the selling price of a house based on its size (in square feet) and the number of bedrooms. They have collected data on recently sold houses in the area and want to build a linear regression model to predict the selling price of a new house based on its size and number of bedrooms."
      ],
      "metadata": {
        "id": "2j-3aDQlP3Pj"
      }
    },
    {
      "cell_type": "markdown",
      "source": [
        "# Model Implementation:"
      ],
      "metadata": {
        "id": "g31t8KBbP9uw"
      }
    },
    {
      "cell_type": "markdown",
      "source": [
        "#### You can implement a simple linear regression model using Python's scikit-learn library. The model will have one input variable (study time) and one output variable (score)."
      ],
      "metadata": {
        "id": "GAtTr77zQBSQ"
      }
    },
    {
      "cell_type": "markdown",
      "source": [
        "#Training Data:"
      ],
      "metadata": {
        "id": "Mfqr6xgkQEfW"
      }
    },
    {
      "cell_type": "markdown",
      "source": [
        "| Size (in sq ft) | Bedrooms | Selling Price (in $1000s) |\n",
        "|-----------------|----------|----------------------------|\n",
        "| 2104            | 3        | 399.9                      |\n",
        "| 1600            | 3        | 329.9                      |\n",
        "| 2400            | 3        | 369.0                      |\n",
        "| 1416            | 2        | 232.0                      |\n",
        "| 3000            | 4        | 539.9                      |\n",
        "| 1985            | 4        | 299.9                      |\n",
        "| 1534            | 3        | 314.9                      |\n",
        "| 1427            | 3        | 198.9                      |\n",
        "| 1380            | 3        | 212.0                      |\n",
        "| 1494            | 3        | 242.0                      |\n",
        "| 1500\t          | 3\t       | 225                        |\n",
        "| 2000\t          | 4        | 300                        |\n",
        "| 1200\t          | 2        | 180                        |\n",
        "| 1800\t          | 3        | 240|\n",
        "|1000\t|2|\t150|\n",
        "|1400|\t3\t|210|"
      ],
      "metadata": {
        "id": "RfoPE8rxQGyI"
      }
    },
    {
      "cell_type": "markdown",
      "source": [
        "# Data Visualization"
      ],
      "metadata": {
        "id": "sou7ufTo7sAX"
      }
    },
    {
      "cell_type": "code",
      "source": [
        "import numpy as np\n",
        "import matplotlib.pyplot as plt\n",
        "\n",
        "# Load the training dataset\n",
        "data=pd.read_csv('House_price_predict.csv')\n",
        "\n",
        "# Training data\n",
        "X = data[['Size (in sq ft)']].values\n",
        "y = data['Selling Price (in $1000s)'].values\n",
        "# Create a 2D scatter plot\n",
        "fig, ax = plt.subplots()\n",
        "ax.scatter(X[:, 0], y, c='r', marker='o')\n",
        "ax.set_xlabel('Size')\n",
        "ax.set_ylabel('Selling Price')\n",
        "plt.show()\n"
      ],
      "metadata": {
        "colab": {
          "base_uri": "https://localhost:8080/",
          "height": 279
        },
        "id": "jYHBKLGk7ybO",
        "outputId": "25085a69-be40-4c48-e408-08bcae583cbc"
      },
      "execution_count": null,
      "outputs": [
        {
          "output_type": "display_data",
          "data": {
            "text/plain": [
              "<Figure size 432x288 with 1 Axes>"
            ],
            "image/png": "[encoded data removed]"
          },
          "metadata": {
            "needs_background": "light"
          }
        }
      ]
    },
    {
      "cell_type": "code",
      "source": [
        "import seaborn as sns\n",
        "# Load the training dataset\n",
        "data=pd.read_csv('House_price_predict.csv')\n",
        "\n",
        "# Training data\n",
        "X = 'Size (in sq ft)'\n",
        "y = 'Selling Price (in $1000s)'\n",
        "\n",
        "sns.set_style('whitegrid')\n",
        "sns.lmplot(x = X, y = y, data = data)"
      ],
      "metadata": {
        "colab": {
          "base_uri": "https://localhost:8080/",
          "height": 386
        },
        "id": "hSkB-Eis9554",
        "outputId": "8040aac6-906d-4d11-ec0a-9d390df6766e"
      },
      "execution_count": null,
      "outputs": [
        {
          "output_type": "execute_result",
          "data": {
            "text/plain": [
              "<seaborn.axisgrid.FacetGrid at 0x7f3ed307e520>"
            ]
          },
          "metadata": {},
          "execution_count": 35
        },
        {
          "output_type": "display_data",
          "data": {
            "text/plain": [
              "<Figure size 360x360 with 1 Axes>"
            ],
            "image/png": "[encoded data removed]"
          },
          "metadata": {}
        }
      ]
    },
    {
      "cell_type": "markdown",
      "source": [
        "#Source Code:"
      ],
      "metadata": {
        "id": "Q8ov8mpHQpo0"
      }
    },
    {
      "cell_type": "code",
      "source": [
        "from sklearn.linear_model import LinearRegression\n",
        "import numpy as np\n",
        "import pandas as pd\n",
        "from sklearn.model_selection import train_test_split\n",
        "from sklearn.linear_model import LinearRegression\n",
        "from sklearn.metrics import mean_squared_error\n",
        "\n",
        "# Load the training dataset\n",
        "data=pd.read_csv('House_price_predict.csv')\n",
        "\n",
        "X = data[['Size (in sq ft)','Bedrooms']]\n",
        "y = data[['Selling Price (in $1000s)']]\n",
        "\n",
        "# # splitting X and y into training and testing sets\n",
        "X_train, X_test, y_train, y_test = train_test_split(X, y, test_size=0.3, random_state=1)\n",
        "\n",
        "# Create a linear regression object\n",
        "lr = LinearRegression()\n",
        "\n",
        "# Create and train the model\n",
        "model = LinearRegression()\n",
        "model.fit(X, y)\n",
        "\n",
        "# Predict the selling price of a new house\n",
        "size = 1700\n",
        "bedrooms = 2\n",
        "predicted_price = model.predict([[size, bedrooms]])\n",
        "print(\"Predicted selling price of a {0} sq ft, {1} bedroom house: ${2:.2f}k\".format(size, bedrooms, predicted_price[0][0]))\n"
      ],
      "metadata": {
        "colab": {
          "base_uri": "https://localhost:8080/"
        },
        "id": "lqcV0lV3Qqfq",
        "outputId": "0ba11072-3c76-43d0-ba74-5c29dd8c7ff7"
      },
      "execution_count": null,
      "outputs": [
        {
          "output_type": "stream",
          "name": "stdout",
          "text": [
            "Predicted selling price of a 1700 sq ft, 2 bedroom house: $290.62k\n"
          ]
        },
        {
          "output_type": "stream",
          "name": "stderr",
          "text": [
            "/usr/local/lib/python3.9/dist-packages/sklearn/base.py:439: UserWarning: X does not have valid feature names, but LinearRegression was fitted with feature names\n",
            "  warnings.warn(\n"
          ]
        }
      ]
    }
  ]
}