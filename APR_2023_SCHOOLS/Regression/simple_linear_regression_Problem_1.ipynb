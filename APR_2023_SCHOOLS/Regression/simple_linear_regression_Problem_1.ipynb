{
  "nbformat": 4,
  "nbformat_minor": 0,
  "metadata": {
    "colab": {
      "provenance": [],
      "authorship_tag": "ABX9TyN0dfH2rnX3zDu0xu7P2OBJ",
      "include_colab_link": true
    },
    "kernelspec": {
      "name": "python3",
      "display_name": "Python 3"
    },
    "language_info": {
      "name": "python"
    }
  },
  "cells": [
    {
      "cell_type": "markdown",
      "metadata": {
        "id": "view-in-github",
        "colab_type": "text"
      },
      "source": [
        "<a href=\"https://colab.research.google.com/github/Deepsphere-AI/DSAI_WorkShop/blob/main/APR_2023_SCHOOLS/Regression/simple_linear_regression_Problem_1.ipynb\" target=\"_parent\"><img src=\"https://colab.research.google.com/assets/colab-badge.svg\" alt=\"Open In Colab\"/></a>"
      ]
    },
    {
      "cell_type": "markdown",
      "source": [
        "# Problem Statement:"
      ],
      "metadata": {
        "id": "eCkxKvRQJYpX"
      }
    },
    {
      "cell_type": "markdown",
      "source": [
        "#### Suppose you have a dataset containing information about the mileage (in miles per gallon, or mpg) and other characteristics of various cars, such as their weight (in pounds), horsepower (in horsepower), and engine displacement (in cubic inches). You want to build a multiple linear regression model to predict a car's mileage based on its weight, horsepower, and engine displacement."
      ],
      "metadata": {
        "id": "jyMwEXR2Jddl"
      }
    },
    {
      "cell_type": "markdown",
      "source": [
        "# Model Implementation:"
      ],
      "metadata": {
        "id": "_79DPggfJmFQ"
      }
    },
    {
      "cell_type": "markdown",
      "source": [
        "#### You can implement a multiple linear regression model using Python's scikit-learn library. The model will have three input variables (weight, horsepower, engine displacement) and one output variable (mpg)."
      ],
      "metadata": {
        "id": "o8Z8GXx_JoPK"
      }
    },
    {
      "cell_type": "markdown",
      "source": [
        "# Training Data:"
      ],
      "metadata": {
        "id": "FhCpuVaMMkHZ"
      }
    },
    {
      "cell_type": "markdown",
      "source": [
        "|Weight (in pounds)|Horsepower(in hp)|Engine Displacement(in cubic inches)|\tMileage (in mpg)|\n",
        "|:------------|:--------------|:------------|:-----------|\n",
        "|2000|100|120|\t40|\n",
        "|2500|120|140|35|\n",
        "|2800|140|160|30|\n",
        "|3200|160|180|25|\n",
        "|3500|180|200|20|\n",
        "|4000|200|220|15|\n",
        "|4500|220|240|10|\n",
        "|5000|240|260|5|\n",
        "|5500|260|280|0|\n",
        "|6000|280|300|-5|\n"
      ],
      "metadata": {
        "id": "XP-3lI5uOISu"
      }
    },
    {
      "cell_type": "markdown",
      "source": [
        "#Data visulaization"
      ],
      "metadata": {
        "id": "hQ9Ug4GRgDH9"
      }
    },
    {
      "cell_type": "code",
      "source": [
        "import matplotlib.pyplot as plt\n",
        "\n",
        "# Load the training dataset\n",
        "data=pd.read_csv('mileage_data.csv')\n",
        "\n",
        "# Data\n",
        "weights = data['Weight (in pounds)']\n",
        "horsepower = data['Horsepower(in hp)']\n",
        "engine_displacement = data['Engine Displacement(in cubic inches)']\n",
        "mileage = data['Mileage (in mpg)']\n",
        "\n",
        "# Create the plot\n",
        "plt.plot(weights, engine_displacement, 'ro')\n",
        "plt.xlabel('Weight (lbs)')\n",
        "plt.ylabel('Engine Displacement (cu in)')\n",
        "plt.title('Relationship between Weight and Engine Displacement')\n",
        "plt.show()"
      ],
      "metadata": {
        "colab": {
          "base_uri": "https://localhost:8080/",
          "height": 301
        },
        "id": "wc6IAtsyAgLv",
        "outputId": "b91e88c4-35b5-4b35-a776-b7ae07542bf5"
      },
      "execution_count": null,
      "outputs": [
        {
          "output_type": "display_data",
          "data": {
            "text/plain": [
              "<Figure size 432x288 with 1 Axes>"
            ],
            "image/png": "[encoded data removed]"
          },
          "metadata": {}
        }
      ]
    },
    {
      "cell_type": "markdown",
      "source": [
        "#Source Code:\n"
      ],
      "metadata": {
        "id": "tvVzWt67OHAw"
      }
    },
    {
      "cell_type": "code",
      "execution_count": null,
      "metadata": {
        "colab": {
          "base_uri": "https://localhost:8080/"
        },
        "id": "GQN41Ut_JX84",
        "outputId": "7ead1d78-089d-4454-9aae-390f87c016ae"
      },
      "outputs": [
        {
          "output_type": "stream",
          "name": "stdout",
          "text": [
            "Predicted mileage: 32.5\n"
          ]
        }
      ],
      "source": [
        "import pandas as pd\n",
        "import numpy as np\n",
        "from sklearn.model_selection import train_test_split\n",
        "from sklearn.linear_model import LinearRegression\n",
        "from sklearn.metrics import mean_squared_error\n",
        "\n",
        "\n",
        "# Load the training dataset\n",
        "data=pd.read_csv('mileage_data.csv')\n",
        "\n",
        "X = data.iloc[:,:-1].values\n",
        "y = data.iloc[:,-1].values\n",
        "\n",
        "# # splitting X and y into training and testing sets\n",
        "X_train, X_test, y_train, y_test = train_test_split(X, y, test_size=0.3, random_state=1)\n",
        "\n",
        "# Create a linear regression object\n",
        "lr = LinearRegression()\n",
        "\n",
        "# Train the model\n",
        "lr.fit(X_train, y_train)\n",
        "result = lr.predict([[3000, 130, 150]])\n",
        "\n",
        "# Print the predicted mileage\n",
        "print(\"Predicted mileage:\", result[0])\n"
      ]
    }
  ]
}