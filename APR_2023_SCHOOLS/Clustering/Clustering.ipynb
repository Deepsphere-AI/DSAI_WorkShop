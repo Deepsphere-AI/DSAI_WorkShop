{
  "nbformat": 4,
  "nbformat_minor": 0,
  "metadata": {
    "colab": {
      "provenance": [],
      "authorship_tag": "ABX9TyOoqKJ66Qo3qk+wMLaKqGwO",
      "include_colab_link": true
    },
    "kernelspec": {
      "name": "python3",
      "display_name": "Python 3"
    },
    "language_info": {
      "name": "python"
    }
  },
  "cells": [
    {
      "cell_type": "markdown",
      "metadata": {
        "id": "view-in-github",
        "colab_type": "text"
      },
      "source": [
        "<a href=\"https://colab.research.google.com/github/Deepsphere-AI/DSAI_WorkShop/blob/main/APR_2023_SCHOOLS/Clustering/Clustering.ipynb\" target=\"_parent\"><img src=\"https://colab.research.google.com/assets/colab-badge.svg\" alt=\"Open In Colab\"/></a>"
      ]
    },
    {
      "cell_type": "code",
      "execution_count": 7,
      "metadata": {
        "colab": {
          "base_uri": "https://localhost:8080/",
          "height": 766
        },
        "id": "0GXs3lYATNBn",
        "outputId": "694bca8b-64e9-4726-d04d-49b7b872b765"
      },
      "outputs": [
        {
          "output_type": "stream",
          "name": "stdout",
          "text": [
            "**************************************************************************************************************\n"
          ]
        },
        {
          "output_type": "display_data",
          "data": {
            "text/plain": [
              "<Figure size 432x288 with 1 Axes>"
            ],
            "image/png": "[encoded data removed]"
          },
          "metadata": {
            "needs_background": "light"
          }
        },
        {
          "output_type": "stream",
          "name": "stdout",
          "text": [
            "**************************************************************************************************************\n",
            "\n",
            "centroids are : \n",
            " [[13.42857143  4.        ]\n",
            " [18.5        17.        ]\n",
            " [ 6.         11.42857143]]\n",
            "\n",
            "**************************************************************************************************************\n",
            "\n"
          ]
        },
        {
          "output_type": "display_data",
          "data": {
            "text/plain": [
              "<Figure size 432x288 with 1 Axes>"
            ],
            "image/png": "[encoded data removed]"
          },
          "metadata": {
            "needs_background": "light"
          }
        },
        {
          "output_type": "stream",
          "name": "stdout",
          "text": [
            "**************************************************************************************************************\n",
            "\n"
          ]
        }
      ],
      "source": [
        "###   Problem statement    : To cluster a T20 cricket match data to gain insights with respect to different phases of match   \n",
        "###\n",
        "###   Model implimentation : K-means clustering\n",
        "###\n",
        "###   Dataset              : Indian premier league\n",
        "###\n",
        "\n",
        "# importing required libraries \n",
        "import pandas as pd\n",
        "import matplotlib.pyplot as plt\n",
        "from sklearn.cluster import KMeans\n",
        "import warnings\n",
        "warnings.filterwarnings('ignore')\n",
        "\n",
        "# importing the dataset\n",
        "data=pd.read_csv('/content/Sample scores.csv')\n",
        "print(\"**************************************************************************************************************\")\n",
        "# Scatter plot for dataset\n",
        "plt.scatter(data['Overs'],data['Scores'])\n",
        "plt.xlabel('Overs')\n",
        "plt.ylabel('Run')\n",
        "plt.show()\n",
        "print(\"**************************************************************************************************************\")\n",
        "print(\"\")\n",
        "\n",
        "# interchanging the columns for better understanding\n",
        "df=pd.DataFrame(data,columns=['Scores','Overs'])\n",
        "\n",
        "# model fitting\n",
        "kmeans=KMeans(n_clusters=3).fit(df)\n",
        "\n",
        "# Centroids\n",
        "centroids=kmeans.cluster_centers_\n",
        "print(\"centroids are : \\n\",centroids)\n",
        "print(\"\")\n",
        "print(\"**************************************************************************************************************\")\n",
        "print(\"\")\n",
        "# final output of clustered data\n",
        "plt.scatter(df['Overs'],df['Scores'],c=kmeans.labels_.astype(float),s=50,alpha=1)\n",
        "plt.scatter(centroids[:,0],centroids[:,1],c='red',s=50)\n",
        "plt.xlabel('Overs')\n",
        "plt.ylabel('Scores')\n",
        "plt.show()\n",
        "\n",
        "print(\"**************************************************************************************************************\")\n",
        "print(\"\")"
      ]
    }
  ]
}