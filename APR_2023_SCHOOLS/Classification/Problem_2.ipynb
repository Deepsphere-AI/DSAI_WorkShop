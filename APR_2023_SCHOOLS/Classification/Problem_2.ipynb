{
  "nbformat": 4,
  "nbformat_minor": 0,
  "metadata": {
    "colab": {
      "provenance": [],
      "authorship_tag": "ABX9TyPRORyxNjibusv7JPey0/YU",
      "include_colab_link": true
    },
    "kernelspec": {
      "name": "python3",
      "display_name": "Python 3"
    },
    "language_info": {
      "name": "python"
    }
  },
  "cells": [
    {
      "cell_type": "markdown",
      "metadata": {
        "id": "view-in-github",
        "colab_type": "text"
      },
      "source": [
        "<a href=\"https://colab.research.google.com/github/Deepsphere-AI/DSAI_WorkShop/blob/main/APR_2023_SCHOOLS/Classification/Problem_2.ipynb\" target=\"_parent\"><img src=\"https://colab.research.google.com/assets/colab-badge.svg\" alt=\"Open In Colab\"/></a>"
      ]
    },
    {
      "cell_type": "code",
      "execution_count": 1,
      "metadata": {
        "colab": {
          "base_uri": "https://localhost:8080/",
          "height": 348
        },
        "id": "XjjdAPa1mYa0",
        "outputId": "f12eaf6c-4e4d-477a-b7e1-557d5762b381"
      },
      "outputs": [
        {
          "output_type": "stream",
          "name": "stdout",
          "text": [
            "Accuracy_Score = 0.6426799007444168\n",
            "\n",
            "************************************************************************************\n",
            "\n"
          ]
        },
        {
          "output_type": "display_data",
          "data": {
            "text/plain": [
              "<Figure size 432x288 with 1 Axes>"
            ],
            "image/png": "[encoded data removed]"
          },
          "metadata": {
            "needs_background": "light"
          }
        }
      ],
      "source": [
        "import pandas as pd\n",
        "from sklearn.model_selection import train_test_split\n",
        "from sklearn.ensemble import RandomForestClassifier\n",
        "from sklearn import metrics\n",
        "import seaborn as sns\n",
        "import matplotlib.pyplot as plt\n",
        "\n",
        "df = pd.read_csv('/content/water_potability.csv')\n",
        "df = df.dropna()\n",
        "\n",
        "# Model building\n",
        "X = df.drop('Potability', axis=1)\n",
        "y = df['Potability']\n",
        "\n",
        "# Split the data into training and testing sets\n",
        "X_train, X_test, y_train, y_test = train_test_split(X, y, test_size=0.2, random_state=42)\n",
        "\n",
        "# Create a Random Forest classifer object\n",
        "rfc = RandomForestClassifier()\n",
        "\n",
        "# Train the model using the training data\n",
        "rfc.fit(X_train, y_train)\n",
        "\n",
        "#Testing our model with the same dataset\n",
        "predictions = rfc.predict(X_test)\n",
        "print(\"Accuracy_Score =\", format(metrics.accuracy_score(y_test, predictions)))\n",
        "\n",
        "print('\\n************************************************************************************\\n')\n",
        "\n",
        "#Data visualization with binary data\n",
        "sns.countplot(x='Potability', data=df, )\n",
        "plt.show()"
      ]
    }
  ]
}