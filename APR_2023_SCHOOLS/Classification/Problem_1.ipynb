{
  "nbformat": 4,
  "nbformat_minor": 0,
  "metadata": {
    "colab": {
      "provenance": [],
      "authorship_tag": "ABX9TyPHu0xTbqbU95ng0d9Mgwhl",
      "include_colab_link": true
    },
    "kernelspec": {
      "name": "python3",
      "display_name": "Python 3"
    },
    "language_info": {
      "name": "python"
    }
  },
  "cells": [
    {
      "cell_type": "markdown",
      "metadata": {
        "id": "view-in-github",
        "colab_type": "text"
      },
      "source": [
        "<a href=\"https://colab.research.google.com/github/Deepsphere-AI/DSAI_WorkShop/blob/main/APR_2023_SCHOOLS/Classification/Problem_1.ipynb\" target=\"_parent\"><img src=\"https://colab.research.google.com/assets/colab-badge.svg\" alt=\"Open In Colab\"/></a>"
      ]
    },
    {
      "cell_type": "code",
      "execution_count": 18,
      "metadata": {
        "colab": {
          "base_uri": "https://localhost:8080/",
          "height": 383
        },
        "id": "NjxJhBY9hGyh",
        "outputId": "3265089f-d85b-40e3-a9c9-5c4c403f33bc"
      },
      "outputs": [
        {
          "output_type": "stream",
          "name": "stdout",
          "text": [
            "Accuracy_Score = 0.625\n",
            "\n",
            "************************************************************************************\n",
            "\n",
            "Count Plot\n",
            "\n"
          ]
        },
        {
          "output_type": "display_data",
          "data": {
            "text/plain": [
              "<Figure size 432x288 with 1 Axes>"
            ],
            "image/png": "[encoded data removed]"
          },
          "metadata": {
            "needs_background": "light"
          }
        }
      ],
      "source": [
        "# Result classification of students in schools whether they will pass or fail\n",
        "#\n",
        "# Problem statement : To classify the students whether they will pass or fail in the exam based on other factors.\n",
        "#\n",
        "# Model implemented : Decision Tree Classifier\n",
        "#\n",
        "#Importing the required libraries\n",
        "import pandas as pd\n",
        "from sklearn.tree import DecisionTreeClassifier\n",
        "from sklearn.model_selection import train_test_split\n",
        "from sklearn.metrics import accuracy_score, confusion_matrix\n",
        "import pandas as pd\n",
        "from sklearn import metrics\n",
        "import warnings\n",
        "warnings.filterwarnings(\"ignore\")\n",
        "import matplotlib.pyplot as plt\n",
        "from sklearn import metrics\n",
        "import seaborn as sns\n",
        "\n",
        "#Importing the dataset\n",
        "data = pd.read_csv('/content/passorfail.csv')\n",
        "data\n",
        "\n",
        "#Model building\n",
        "X = data.drop(['pass'],axis=1)\n",
        "y = data['pass']\n",
        "\n",
        "# Split the data into training and testing sets\n",
        "X_train, X_test, y_train, y_test = train_test_split(X, y, test_size=0.1, random_state=42)\n",
        "\n",
        "# Create a Decision Tree Classifier object\n",
        "clf = DecisionTreeClassifier()\n",
        "\n",
        "# Train the model using the training data\n",
        "clf.fit(X_train, y_train)\n",
        "\n",
        "#Testing our model with the same dataset\n",
        "predictions = clf.predict(X_test)\n",
        "print(\"Accuracy_Score =\", format(metrics.accuracy_score(y_test, predictions)))\n",
        "\n",
        "print('\\n************************************************************************************\\n')\n",
        "\n",
        "#Data visualization with binary data\n",
        "print('Count Plot\\n')\n",
        "sns.countplot(x='pass', data=data, )\n",
        "plt.show()"
      ]
    }
  ]
}