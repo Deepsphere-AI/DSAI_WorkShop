{
  "nbformat": 4,
  "nbformat_minor": 0,
  "metadata": {
    "colab": {
      "provenance": [],
      "authorship_tag": "ABX9TyNLu7YDJzmKo49HVZB9YU+9",
      "include_colab_link": true
    },
    "kernelspec": {
      "name": "python3",
      "display_name": "Python 3"
    },
    "language_info": {
      "name": "python"
    }
  },
  "cells": [
    {
      "cell_type": "markdown",
      "metadata": {
        "id": "view-in-github",
        "colab_type": "text"
      },
      "source": [
        "<a href=\"https://colab.research.google.com/github/Deepsphere-AI/DSAI_WorkShop/blob/main/APR_2023_SCHOOLS/Classification/Problem%201/Problem_1.ipynb\" target=\"_parent\"><img src=\"https://colab.research.google.com/assets/colab-badge.svg\" alt=\"Open In Colab\"/></a>"
      ]
    },
    {
      "cell_type": "code",
      "execution_count": 1,
      "metadata": {
        "colab": {
          "base_uri": "https://localhost:8080/",
          "height": 553
        },
        "id": "NjxJhBY9hGyh",
        "outputId": "77780635-102c-4718-9229-b3f585249e28"
      },
      "outputs": [
        {
          "output_type": "stream",
          "name": "stdout",
          "text": [
            "Accuracy_Score = 0.625\n",
            "\n",
            "************************************************************************************\n",
            "\n",
            "Count Plot\n",
            "\n"
          ]
        },
        {
          "output_type": "display_data",
          "data": {
            "text/plain": [
              "<Figure size 640x480 with 1 Axes>"
            ],
            "image/png": "[encoded data removed]"
          },
          "metadata": {}
        }
      ],
      "source": [
        "# Result classification of students in schools whether they will pass or fail\n",
        "#\n",
        "# Problem statement : To classify the students whether they will pass or fail in the exam based on other factors.\n",
        "#\n",
        "# Model implemented : Decision Tree Classifier\n",
        "#\n",
        "#Importing the required libraries\n",
        "import pandas as pd\n",
        "from sklearn.tree import DecisionTreeClassifier\n",
        "from sklearn.model_selection import train_test_split\n",
        "from sklearn.metrics import accuracy_score\n",
        "from sklearn import metrics\n",
        "import warnings\n",
        "warnings.filterwarnings(\"ignore\")\n",
        "import matplotlib.pyplot as plt\n",
        "import seaborn as sns\n",
        "\n",
        "#Importing the dataset\n",
        "data = pd.read_csv('https://raw.githubusercontent.com/Deepsphere-AI/DSAI_WorkShop/main/APR_2023_SCHOOLS/Classification/Problem%201/Datasets/PassorfailTRAIN.csv')\n",
        "data\n",
        "\n",
        "#Model building\n",
        "X = data.drop(['pass'],axis=1)\n",
        "y = data['pass']\n",
        "\n",
        "# Split the data into training and testing sets\n",
        "X_train, X_test, y_train, y_test = train_test_split(X, y, test_size=0.1, random_state=42)\n",
        "\n",
        "# Create a Decision Tree Classifier object\n",
        "clf = DecisionTreeClassifier()\n",
        "\n",
        "# Train the model using the training data\n",
        "clf.fit(X_train, y_train)\n",
        "\n",
        "#Testing our model with the same dataset\n",
        "predictions = clf.predict(X_test)\n",
        "print(\"Accuracy_Score =\", format(metrics.accuracy_score(y_test, predictions)))\n",
        "\n",
        "print('\\n************************************************************************************\\n')\n",
        "\n",
        "#Data visualization with binary data\n",
        "print('Count Plot\\n')\n",
        "sns.countplot(x='pass', data=data, )\n",
        "plt.show()"
      ]
    }
  ]
}